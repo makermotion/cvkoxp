{
 "cells": [
  {
   "cell_type": "code",
   "execution_count": 260,
   "metadata": {},
   "outputs": [],
   "source": [
    "from ahk import AHK\n",
    "import ctypes\n",
    "import cv2, pytesseract\n",
    "import win32gui\n",
    "import time\n",
    "from PIL import ImageGrab, Image\n",
    "import numpy as np\n",
    "import sys\n",
    "import re"
   ]
  },
  {
   "cell_type": "code",
   "execution_count": 572,
   "metadata": {},
   "outputs": [
    {
     "name": "stdout",
     "output_type": "stream",
     "text": [
      "mp TEXT RESULT: 738/1369\n",
      "\f",
      "\n",
      "mp TEXT ACTUAL: ['738']\n",
      "mp TEXT FULL: ['1369']\n"
     ]
    }
   ],
   "source": [
    "def get_window_info():\n",
    "    # set window info\n",
    "    window_info = {}\n",
    "    win32gui.EnumWindows(set_window_coordinates, window_info)\n",
    "    return window_info\n",
    "\n",
    "def set_window_coordinates(hwnd, window_info):\n",
    "    if win32gui.IsWindowVisible(hwnd):\n",
    "        if 'Knight' in win32gui.GetWindowText(hwnd):\n",
    "            rect = win32gui.GetWindowRect(hwnd)\n",
    "            x = rect[0]\n",
    "            y = rect[1]\n",
    "            w = rect[2] - x\n",
    "            h = rect[3] - y\n",
    "            window_info['x'] = x\n",
    "            window_info['y'] = y\n",
    "            window_info['width'] = w\n",
    "            window_info['height'] = h\n",
    "            window_info['name'] = win32gui.GetWindowText(hwnd)\n",
    "            win32gui.SetForegroundWindow(hwnd)\n",
    "\n",
    "def get_screen(x1, y1, x2, y2):\n",
    "    box = (x1, y1, x2, y2)\n",
    "    screen = ImageGrab.grab(box)\n",
    "\n",
    "    img = np.array(screen.getdata(), dtype=np.uint8).reshape((screen.size[1], screen.size[0], 3))\n",
    "    return img\n",
    "\n",
    "stat_name = 'mp'\n",
    "\n",
    "if stat_name == 'hp':\n",
    "    x1, y1, x2, y2 = 124, 49, 196, 61\n",
    "if stat_name == 'mp':\n",
    "    x1, y1, x2, y2 = 124, 71, 196, 81\n",
    "\n",
    "img = get_screen(x1, y1, x2, y2)\n",
    "img = cv2.resize(img, (350, 55))\n",
    "\n",
    "img = cv2.copyMakeBorder(img, 10, 10, 0, 0, cv2.BORDER_CONSTANT, value=255)\n",
    "\n",
    "gray = cv2.cvtColor(np.asarray(img), cv2.COLOR_BGR2GRAY)\n",
    "ret, thresh1 = cv2.threshold(gray, 0, 255, cv2.THRESH_OTSU | cv2.THRESH_BINARY_INV)\n",
    "# pytessercat\n",
    "config = ('-l eng --oem 1 --psm 3')\n",
    "pytesseract.pytesseract.tesseract_cmd = r'C:/Program Files/tess4/tesseract.exe'\n",
    "text = pytesseract.image_to_string(thresh1, config=config)\n",
    "print(f'{stat_name} TEXT RESULT: {text}')\n",
    "text = text.split('/')\n",
    "act = re.findall(\"[-+]?[.]?[\\d]+(?:,\\d\\d\\d)*[\\.]?\\d*(?:[eE][-+]?\\d+)?\", text[0])\n",
    "print(f'{stat_name} TEXT ACTUAL: {act}')\n",
    "fll = re.findall(\"[-+]?[.]?[\\d]+(?:,\\d\\d\\d)*[\\.]?\\d*(?:[eE][-+]?\\d+)?\", text[1])\n",
    "print(f'{stat_name} TEXT FULL: {fll}')"
   ]
  },
  {
   "cell_type": "code",
   "execution_count": 561,
   "metadata": {},
   "outputs": [],
   "source": []
  },
  {
   "cell_type": "code",
   "execution_count": 562,
   "metadata": {},
   "outputs": [],
   "source": [
    "#Image.fromarray(thresh1).show()"
   ]
  },
  {
   "cell_type": "code",
   "execution_count": 563,
   "metadata": {},
   "outputs": [
    {
     "name": "stdout",
     "output_type": "stream",
     "text": [
      "mp TEXT RESULT: 643/1369\n",
      "\f",
      "\n"
     ]
    }
   ],
   "source": []
  },
  {
   "cell_type": "code",
   "execution_count": 564,
   "metadata": {},
   "outputs": [
    {
     "name": "stdout",
     "output_type": "stream",
     "text": [
      "mp TEXT ACTUAL: ['643']\n",
      "mp TEXT FULL: ['1369']\n"
     ]
    }
   ],
   "source": []
  },
  {
   "cell_type": "code",
   "execution_count": null,
   "metadata": {},
   "outputs": [],
   "source": []
  }
 ],
 "metadata": {
  "kernelspec": {
   "display_name": "Python 3",
   "language": "python",
   "name": "python3"
  },
  "language_info": {
   "codemirror_mode": {
    "name": "ipython",
    "version": 3
   },
   "file_extension": ".py",
   "mimetype": "text/x-python",
   "name": "python",
   "nbconvert_exporter": "python",
   "pygments_lexer": "ipython3",
   "version": "3.8.2"
  }
 },
 "nbformat": 4,
 "nbformat_minor": 4
}
